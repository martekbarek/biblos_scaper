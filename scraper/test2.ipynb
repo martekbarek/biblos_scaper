{
 "cells": [
  {
   "cell_type": "code",
   "execution_count": 1,
   "metadata": {},
   "outputs": [
    {
     "ename": "RuntimeError",
     "evalue": "Cannot use HTMLSession within an existing event loop. Use AsyncHTMLSession instead.",
     "output_type": "error",
     "traceback": [
      "\u001b[0;31m---------------------------------------------------------------------------\u001b[0m",
      "\u001b[0;31mRuntimeError\u001b[0m                              Traceback (most recent call last)",
      "Cell \u001b[0;32mIn[1], line 16\u001b[0m\n\u001b[1;32m     13\u001b[0m session \u001b[39m=\u001b[39m HTMLSession()\n\u001b[1;32m     14\u001b[0m r \u001b[39m=\u001b[39m session\u001b[39m.\u001b[39mget(\n\u001b[1;32m     15\u001b[0m     \u001b[39m\"\u001b[39m\u001b[39mhttps://reverb.com/marketplace/bass-guitars?year_min=1900&year_max=2022\u001b[39m\u001b[39m\"\u001b[39m)\n\u001b[0;32m---> 16\u001b[0m r\u001b[39m.\u001b[39;49mhtml\u001b[39m.\u001b[39;49mrender(sleep\u001b[39m=\u001b[39;49m\u001b[39m5\u001b[39;49m)\n\u001b[1;32m     18\u001b[0m stop \u001b[39m=\u001b[39m \u001b[39mFalse\u001b[39;00m\n\u001b[1;32m     19\u001b[0m next_url \u001b[39m=\u001b[39m \u001b[39m\"\u001b[39m\u001b[39m\"\u001b[39m\n",
      "File \u001b[0;32m/Library/Frameworks/Python.framework/Versions/3.10/lib/python3.10/site-packages/requests_html.py:586\u001b[0m, in \u001b[0;36mHTML.render\u001b[0;34m(self, retries, script, wait, scrolldown, sleep, reload, timeout, keep_page)\u001b[0m\n\u001b[1;32m    541\u001b[0m \u001b[39mdef\u001b[39;00m \u001b[39mrender\u001b[39m(\u001b[39mself\u001b[39m, retries: \u001b[39mint\u001b[39m \u001b[39m=\u001b[39m \u001b[39m8\u001b[39m, script: \u001b[39mstr\u001b[39m \u001b[39m=\u001b[39m \u001b[39mNone\u001b[39;00m, wait: \u001b[39mfloat\u001b[39m \u001b[39m=\u001b[39m \u001b[39m0.2\u001b[39m, scrolldown\u001b[39m=\u001b[39m\u001b[39mFalse\u001b[39;00m, sleep: \u001b[39mint\u001b[39m \u001b[39m=\u001b[39m \u001b[39m0\u001b[39m, reload: \u001b[39mbool\u001b[39m \u001b[39m=\u001b[39m \u001b[39mTrue\u001b[39;00m, timeout: Union[\u001b[39mfloat\u001b[39m, \u001b[39mint\u001b[39m] \u001b[39m=\u001b[39m \u001b[39m8.0\u001b[39m, keep_page: \u001b[39mbool\u001b[39m \u001b[39m=\u001b[39m \u001b[39mFalse\u001b[39;00m):\n\u001b[1;32m    542\u001b[0m \u001b[39m    \u001b[39m\u001b[39m\"\"\"Reloads the response in Chromium, and replaces HTML content\u001b[39;00m\n\u001b[1;32m    543\u001b[0m \u001b[39m    with an updated version, with JavaScript executed.\u001b[39;00m\n\u001b[1;32m    544\u001b[0m \n\u001b[0;32m   (...)\u001b[0m\n\u001b[1;32m    583\u001b[0m \u001b[39m    Chromium into your home directory (``~/.pyppeteer``).\u001b[39;00m\n\u001b[1;32m    584\u001b[0m \u001b[39m    \"\"\"\u001b[39;00m\n\u001b[0;32m--> 586\u001b[0m     \u001b[39mself\u001b[39m\u001b[39m.\u001b[39mbrowser \u001b[39m=\u001b[39m \u001b[39mself\u001b[39;49m\u001b[39m.\u001b[39;49msession\u001b[39m.\u001b[39;49mbrowser  \u001b[39m# Automatically create a event loop and browser\u001b[39;00m\n\u001b[1;32m    587\u001b[0m     content \u001b[39m=\u001b[39m \u001b[39mNone\u001b[39;00m\n\u001b[1;32m    589\u001b[0m     \u001b[39m# Automatically set Reload to False, if example URL is being used.\u001b[39;00m\n",
      "File \u001b[0;32m/Library/Frameworks/Python.framework/Versions/3.10/lib/python3.10/site-packages/requests_html.py:729\u001b[0m, in \u001b[0;36mHTMLSession.browser\u001b[0;34m(self)\u001b[0m\n\u001b[1;32m    727\u001b[0m     \u001b[39mself\u001b[39m\u001b[39m.\u001b[39mloop \u001b[39m=\u001b[39m asyncio\u001b[39m.\u001b[39mget_event_loop()\n\u001b[1;32m    728\u001b[0m     \u001b[39mif\u001b[39;00m \u001b[39mself\u001b[39m\u001b[39m.\u001b[39mloop\u001b[39m.\u001b[39mis_running():\n\u001b[0;32m--> 729\u001b[0m         \u001b[39mraise\u001b[39;00m \u001b[39mRuntimeError\u001b[39;00m(\u001b[39m\"\u001b[39m\u001b[39mCannot use HTMLSession within an existing event loop. Use AsyncHTMLSession instead.\u001b[39m\u001b[39m\"\u001b[39m)\n\u001b[1;32m    730\u001b[0m     \u001b[39mself\u001b[39m\u001b[39m.\u001b[39m_browser \u001b[39m=\u001b[39m \u001b[39mself\u001b[39m\u001b[39m.\u001b[39mloop\u001b[39m.\u001b[39mrun_until_complete(\u001b[39msuper\u001b[39m()\u001b[39m.\u001b[39mbrowser)\n\u001b[1;32m    731\u001b[0m \u001b[39mreturn\u001b[39;00m \u001b[39mself\u001b[39m\u001b[39m.\u001b[39m_browser\n",
      "\u001b[0;31mRuntimeError\u001b[0m: Cannot use HTMLSession within an existing event loop. Use AsyncHTMLSession instead."
     ]
    }
   ],
   "source": [
    "from requests_html import HTMLSession\n",
    "from bs4 import BeautifulSoup\n",
    "import csv\n",
    "from fake_useragent import UserAgent\n",
    "\n",
    "\n",
    "# make csv file\n",
    "# added the newline thing on 5.17.20 to try to stop blank lines from writing\n",
    "csv_file = open(\"rvscrape.csv\", \"w\", newline='')\n",
    "csv_writer = csv.writer(csv_file)\n",
    "csv_writer.writerow([\"bass_name\", \"bass_price\"])\n",
    "\n",
    "session = HTMLSession()\n",
    "r = session.get(\n",
    "    \"https://reverb.com/marketplace/bass-guitars?year_min=1900&year_max=2022\")\n",
    "r.html.render(sleep=5)\n",
    "\n",
    "stop = False\n",
    "next_url = \"\"\n",
    "while not stop:\n",
    "    print(next_url)\n",
    "    soup = BeautifulSoup(r.html.raw_html, \"html.parser\")\n",
    "\n",
    "    titles = soup.findAll(\"h4\", class_=\"grid-card__title\")  # titles\n",
    "    prices = soup.findAll(\"div\", class_=\"grid-card__price\")  # prices\n",
    "\n",
    "    for i in range(len(titles)):\n",
    "        title = titles[i].text.strip()\n",
    "        price = prices[i].text.strip()\n",
    "        csv_writer.writerow([title, price])\n",
    "\n",
    "    next_link = soup.find(\"li\", class_=\"pagination__page--next\")\n",
    "    if not next_link:\n",
    "        stop = True\n",
    "    else:\n",
    "        next_url = next_link.find(\"a\").get(\"href\")\n",
    "        r = session.get(\"https://reverb.com/marketplace\" + next_url)\n",
    "        r.html.render(sleep=5)"
   ]
  },
  {
   "cell_type": "code",
   "execution_count": null,
   "metadata": {},
   "outputs": [],
   "source": []
  }
 ],
 "metadata": {
  "kernelspec": {
   "display_name": "Python 3",
   "language": "python",
   "name": "python3"
  },
  "language_info": {
   "codemirror_mode": {
    "name": "ipython",
    "version": 3
   },
   "file_extension": ".py",
   "mimetype": "text/x-python",
   "name": "python",
   "nbconvert_exporter": "python",
   "pygments_lexer": "ipython3",
   "version": "3.10.8"
  },
  "orig_nbformat": 4
 },
 "nbformat": 4,
 "nbformat_minor": 2
}
