{
 "cells": [
  {
   "cell_type": "code",
   "execution_count": 1,
   "metadata": {},
   "outputs": [],
   "source": [
    "from bs4 import BeautifulSoup"
   ]
  },
  {
   "cell_type": "code",
   "execution_count": 2,
   "metadata": {},
   "outputs": [],
   "source": [
    "with open(\"./articles2.html\") as m:\n",
    "    soup = BeautifulSoup(m,'html.parser')"
   ]
  },
  {
   "cell_type": "code",
   "execution_count": 3,
   "metadata": {},
   "outputs": [],
   "source": [
    "def prettify(value):\n",
    "    return ' '.join(value.split())"
   ]
  },
  {
   "cell_type": "code",
   "execution_count": 67,
   "metadata": {},
   "outputs": [
    {
     "name": "stdout",
     "output_type": "stream",
     "text": [
      "['Badania dynamiczne układu budowla wieżowa-mechaniczny tłumik drgań', ['Abratański, Antoni', 'Kawecki, Janusz'], 'Typ: materiały konferencyjne w czasopiśmie Forma publikacji: referat/artykuł Seria/Czasopismo: Technical Transactions. Mechanics = Czasopismo Techniczne. Mechanika Data wydania: 2004 ISSN: 0011-4561', 'Przypadki przekazywania się podłoża na budynki drgań od komunikacji miejskiej', ['Abratański, Antoni', 'Chełmecki, Jarosław', 'Maciąg, Edward', 'Tatara, Tadeusz'], 'Typ: materiały konferencyjne w książce Forma publikacji: referat/rozdział w monografii Data wydania: 2003', 'Zastosowanie tensometrii elektrooporowej w ocenie nośności pala dużej średnicy', ['Abratański, Antoni', 'Janowski, Zbigniew', 'Kawecki, Janusz'], 'Typ: materiały konferencyjne w książce Forma publikacji: referat/rozdział w monografii Data wydania: 2003', 'Badanie właściwości dynamicznych mostu stalowego', ['Abratański, Antoni', 'Kawecki, Janusz'], 'Typ: materiały konferencyjne w książce Forma publikacji: referat/rozdział w monografii Data wydania: 2002', 'Nowe rejestratory danych pomiarowych i ich wykorzystanie w badaniach dynamicznych', ['Abratański, Antoni'], 'Typ: materiały konferencyjne w książce Forma publikacji: referat/rozdział w monografii Data wydania: 2000', 'Badania dynamiczne i diagnostyka wieży zabytkowego kościoła w Słońsku k/Kostrzynia', ['Ciesielski, Roman', 'Abratański, Antoni'], 'Typ: materiały konferencyjne w książce Forma publikacji: referat/rozdział w monografii Data wydania: 1998', 'Badania cech dynamicznych żelbetowego fundamentu turbozespołu 500 MW', ['Ciesielski, Roman', 'Krupiński, Jacek', 'Abratański, Antoni'], 'Typ: materiały konferencyjne w książce Forma publikacji: referat/rozdział w monografii Data wydania: 1998', 'Specyfika cech dynamicznych wybranych stalowych mostów drogowych', ['Ciesielski, Roman', 'Abratański, Antoni'], 'Typ: materiały konferencyjne w książce Forma publikacji: referat/rozdział w monografii Data wydania: 1997', 'Analiza odpowiedzi budowli zabytkowych na wpływy dynamiczne parasejsmiczne, diagnostyka techniczna i metody zabezpieczenia', ['Ciesielski, Roman', 'Bogusz, Jerzy', 'Stypuła, Krzysztof', 'Tatara, Tadeusz', 'Abratański, Antoni\\n          '], 'Typ: rozdział/fragment książki Data wydania: 1997', 'Zakresy przydatności konwencjonalnej aparatury pomiarowej do pomiarów drgań parasejsmicznych', ['Abratański, Antoni', 'Dygut, Wiesław', 'Ryncarz, Maria', 'Struś, Stanisław'], 'Typ: materiały konferencyjne w książce Forma publikacji: referat/rozdział w monografii Data wydania: 1994', 'Wyniki pomiarów drgań generowanych w kamieniołomie cementowni Małogoszcz z ostatnich lat', ['Abratański, Antoni', 'Ciesielski, Roman', 'Nasiński, Zbigniew', 'Pieronek, Mieczysław', 'Ryncarz, Maria'], 'Typ: materiały konferencyjne w książce Forma publikacji: referat/rozdział w monografii Data wydania: 1994']\n"
     ]
    }
   ],
   "source": [
    "# list of \"article\" classes\n",
    "articles = []\n",
    "\n",
    "documents = soup.find_all('html')\n",
    "\n",
    "for document in documents:\n",
    "    soup_title = document.find('a', {'title' : ''})    \n",
    "    soup_authors = document.find_all('a', {'title' : 'Profil w BPP'})\n",
    "    soup_info = document.find_all('tbody')[1] \n",
    "    \n",
    "    \n",
    "    # assign special property of authors\n",
    "    authors = [author.text for author in soup_authors]\n",
    "    title = prettify(soup_title.text)\n",
    "    info = prettify(soup_info.text)    \n",
    "        \n",
    "    articles.append(title)\n",
    "    articles.append(authors)\n",
    "    articles.append(info)\n",
    "    \n",
    "            \n",
    "print(articles)"
   ]
  },
  {
   "cell_type": "code",
   "execution_count": null,
   "metadata": {},
   "outputs": [],
   "source": []
  },
  {
   "cell_type": "code",
   "execution_count": null,
   "metadata": {},
   "outputs": [],
   "source": []
  }
 ],
 "metadata": {
  "kernelspec": {
   "display_name": "Python 3",
   "language": "python",
   "name": "python3"
  },
  "language_info": {
   "codemirror_mode": {
    "name": "ipython",
    "version": 3
   },
   "file_extension": ".py",
   "mimetype": "text/x-python",
   "name": "python",
   "nbconvert_exporter": "python",
   "pygments_lexer": "ipython3",
   "version": "3.9.6"
  },
  "orig_nbformat": 4
 },
 "nbformat": 4,
 "nbformat_minor": 2
}
