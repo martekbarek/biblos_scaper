{
 "cells": [
  {
   "cell_type": "code",
   "execution_count": 3,
   "metadata": {},
   "outputs": [],
   "source": [
    "from bs4 import BeautifulSoup"
   ]
  },
  {
   "cell_type": "code",
   "execution_count": 4,
   "metadata": {},
   "outputs": [],
   "source": [
    "with open(\"./articles2.html\") as m:\n",
    "    soup = BeautifulSoup(m,'html.parser')"
   ]
  },
  {
   "cell_type": "code",
   "execution_count": 5,
   "metadata": {},
   "outputs": [],
   "source": [
    "def prettify(value):\n",
    "    return ' '.join(value.split())"
   ]
  },
  {
   "cell_type": "code",
   "execution_count": 8,
   "metadata": {},
   "outputs": [
    {
     "name": "stdout",
     "output_type": "stream",
     "text": [
      "[['Wojnar, Leszek'], ['Korzekwa, Joanna', 'Skoneczny, Władysław'], [], [], [], [], [], [], [], [], [], [], [], [], [], [], [], [], ['Wojnar, L.', 'Gądek, A.'], [], [], [], [], [], [], [], [], [], [], [], [], [], ['Mikuła, Janusz', 'Wojnar, Leszek'], [], [], [], [], [], [], [], [], [], [], [], [], [], ['Piwowarczyk, Adam', 'Wojnar, Leszek'], [], [], [], [], [], [], [], [], [], [], [], [], [], ['Wojnar, Leszek'], [], [], [], [], [], [], [], [], [], [], [], [], [], [], [], ['Gądek, Aneta', 'Wojnar, Leszek'], [], [], [], [], [], [], [], [], [], [], [], [], [], ['Mikuła, Janusz', 'Wojnar, Leszek'], [], [], [], [], [], [], [], [], [], [], [], [], [], ['Piwowarczyk, Adam', 'Wojnar, Leszek'], [], [], [], [], [], [], [], [], [], [], [], ['Wojnar, Leszek'], [], [], [], [], [], [], [], [], [], ['Wojnar, Leszek'], ['Gawdzińska, Katarzyna', 'Nagolska, Dorota'], [], [], [], [], [], [], [], [], [], [], [], [], [], [], ['Wojnar, Leszek'], [], [], [], [], [], [], [], [], [], ['Wojnar, Leszek'], ['Fałek, Andrzej '], [], [], [], [], [], [], [], [], ['Wojnar, Leszek'], ['Grabian, Janusz', 'Gawdzińska, Katarzyna', 'Przetakiewicz, Wojciech'], [], [], [], [], [], [], [], [], [], [], [], [], [], [], ['Wojnar, Leszek'], [], [], [], [], [], [], [], [], [], ['Wojnar, Leszek', 'Pytel, Stanisław M. '], [], [], [], [], [], [], [], [], [], ['Latała, Zbigniew', 'Wojnar, Leszek'], ['Szydłowski, Lesław'], [], [], [], [], [], [], [], [], [], [], [], [], [], [], [], [], ['Czyżycki, W.', 'Domagała, M.', 'Lisowski, E.', 'Lisowski, F.', 'Wojnar, L.'], ['Erni, W.', 'Hawryluk, M.'], [], [], [], [], [], [], [], [], ['Gawlik, Józef', 'Wojnar, Leszek'], ['Magdziarczyk, Wojciech'], [], [], [], [], [], [], [], [], ['Mikuła, Janusz', 'Wojnar, Leszek'], [], [], [], [], [], [], [], [], [], ['Wojnar, Leszek'], [], [], [], [], [], [], [], [], [], [], ['Kozłowski, Aleksander', 'Wojnar, Andrzej'], [], [], [], [], [], [], [], [], [], ['Wiktor, Maciej', 'Wojnar, Andrzej'], [], [], [], [], [], [], [], [], [], ['Wojnar, Andrzej', 'Kozłowski, Aleksander'], [], [], [], [], [], [], [], [], [], [], [], ['Wojnar, Andrzej', 'Kozłowski, Aleksander'], [], [], [], [], [], [], [], [], [], ['Wojnar, Andrzej', 'Kozłowski, Aleksander'], [], [], [], [], [], [], [], [], [], ['Wojnar, Andrzej', 'Wiatrowicz, Grzegorz'], [], [], [], [], [], [], [], [], [], ['Wojnar, Andrzej'], [], [], [], [], [], [], [], [], [], [], [], ['Wojnar, Andrzej'], [], [], [], [], [], [], [], [], [], [], [], ['Wojnar, Andrzej', 'Sieńkowska, Katarzyna'], [], [], [], [], [], [], [], [], [], []]\n"
     ]
    }
   ],
   "source": [
    "# list of \"article\" classes\n",
    "articles = []\n",
    "\n",
    "documents = soup.find_all('tr')\n",
    "\n",
    "for document in documents:\n",
    "    soup_title = document.find('a', {'title' : ''})    \n",
    "    soup_authors = document.find_all('a', {'title' : 'Profil w BPP'})\n",
    "    soup_coauthors = document.find_all('a', {'title' : 'Pokaż prace tego autora'})\n",
    "    # soup_info = document.find_all('tbody')[1] \n",
    "    \n",
    "    \n",
    "    # assign special property of authors\n",
    "    authors = [author.text for author in soup_authors]\n",
    "    coauthors = [author.text for author in soup_coauthors]\n",
    "    # title = prettify(soup_title.text)\n",
    "    # info = prettify(soup_info.text)    \n",
    "    \n",
    "    # articles.append(title)\n",
    "    articles.append(authors)\n",
    "    articles.append(coauthors)\n",
    "    # articles.append(info)\n",
    "    \n",
    "            \n",
    "print(articles)"
   ]
  },
  {
   "cell_type": "code",
   "execution_count": null,
   "metadata": {},
   "outputs": [],
   "source": []
  },
  {
   "cell_type": "code",
   "execution_count": null,
   "metadata": {},
   "outputs": [],
   "source": []
  }
 ],
 "metadata": {
  "kernelspec": {
   "display_name": "Python 3",
   "language": "python",
   "name": "python3"
  },
  "language_info": {
   "codemirror_mode": {
    "name": "ipython",
    "version": 3
   },
   "file_extension": ".py",
   "mimetype": "text/x-python",
   "name": "python",
   "nbconvert_exporter": "python",
   "pygments_lexer": "ipython3",
   "version": "3.9.6"
  },
  "orig_nbformat": 4
 },
 "nbformat": 4,
 "nbformat_minor": 2
}
