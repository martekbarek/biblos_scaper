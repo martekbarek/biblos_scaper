{
 "cells": [
  {
   "cell_type": "code",
   "execution_count": 19,
   "metadata": {},
   "outputs": [],
   "source": [
    "from selenium import webdriver\n",
    "from selenium.webdriver.support.ui import WebDriverWait\n",
    "from selenium.webdriver.support import expected_conditions as EC\n",
    "from bs4 import BeautifulSoup\n"
   ]
  },
  {
   "cell_type": "code",
   "execution_count": 24,
   "metadata": {},
   "outputs": [],
   "source": []
  },
  {
   "cell_type": "code",
   "execution_count": 23,
   "metadata": {},
   "outputs": [
    {
     "name": "stderr",
     "output_type": "stream",
     "text": [
      "/var/folders/3n/zpnxvn457fq5mz2mpm4914vc0000gn/T/ipykernel_3982/3741959774.py:1: DeprecationWarning: executable_path has been deprecated, please pass in a Service object\n",
      "  driver = webdriver.Chrome('./chromedriver')\n"
     ]
    },
    {
     "name": "stdout",
     "output_type": "stream",
     "text": [
      "<html><body><tbody><tr valign=\"top\"><td align=\"left\" rowspan=\"2\" width=\"10\"><img hspace=\"8\" src=\"/suw/files/portal_graph/resource_kind/paper_42.png\"/></td><td><a href=\"/userHomepage&amp;uId=927&amp;rel=BPP-author\" title=\"Profil w BPP\">Abratański, Antoni</a>; <a href=\"/userHomepage&amp;uId=3780&amp;rel=BPP-author\" title=\"Profil w BPP\">Kawecki, Janusz</a> <br/><b><a href=\"/resourceDetailsBPP&amp;rId=29619\">Badania dynamiczne układu budowla wieżowa-mechaniczny tłumik drgań</a></b></td><td align=\"right\" rowspan=\"2\"><input id=\"resSelectChecbox_29619\" name=\"resSelectChecbox_29619\" onchange=\"onResourceSelected(29619, this.checked)\" type=\"checkbox\"/></td></tr><tr><td align=\"left\"><center><table border=\"0\" cellpadding=\"0\" cellspacing=\"1\" width=\"96%\"><tbody><tr><td align=\"left\"><center><table border=\"0\" cellpadding=\"0\" cellspacing=\"1\" width=\"96%\"><tbody><tr valign=\"top\"><td align=\"left\" style=\"font-size:8pt;\"> Typ: <b>  materiały konferencyjne w czasopiśmie </b></td></tr><tr valign=\"top\"><td align=\"left\" style=\"font-size:8pt;\"> Forma publikacji: <b>  referat/artykuł  </b></td></tr><tr valign=\"top\"><td align=\"left\" style=\"font-size:8pt;\"> Seria/Czasopismo: <b> <a href=\"journalDetails&amp;jId=1824\" style=\"color:#000\">Technical Transactions. Mechanics = Czasopismo Techniczne. Mechanika</a> </b></td></tr><tr valign=\"top\"><td align=\"left\" style=\"font-size:8pt;\"> Data wydania: <b>  2004 </b></td></tr><tr valign=\"top\"><td align=\"left\" style=\"font-size:8pt;\"> ISSN: <b>  0011-4561 </b></td></tr></tbody></table></center></td></tr></tbody></table></center></td></tr></tbody></body></html>\n",
      "<html><body><tbody><tr valign=\"top\"><td align=\"left\" rowspan=\"2\" width=\"10\"><img hspace=\"8\" src=\"/suw/files/portal_graph/resource_kind/paper_42.png\"/></td><td><a href=\"/userHomepage&amp;uId=927&amp;rel=BPP-author\" title=\"Profil w BPP\">Abratański, Antoni</a>; <a href=\"/userHomepage&amp;uId=7538&amp;rel=BPP-author\" title=\"Profil w BPP\">Chełmecki, Jarosław</a>; <a href=\"/userHomepage&amp;uId=345&amp;rel=BPP-author\" title=\"Profil w BPP\">Maciąg, Edward</a>; <a href=\"/userHomepage&amp;uId=95&amp;rel=BPP-author\" title=\"Profil w BPP\">Tatara, Tadeusz</a> <br/><b><a href=\"/resourceDetailsBPP&amp;rId=34724\">Przypadki przekazywania się podłoża na budynki drgań od komunikacji miejskiej</a></b></td><td align=\"right\" rowspan=\"2\"><input id=\"resSelectChecbox_34724\" name=\"resSelectChecbox_34724\" onchange=\"onResourceSelected(34724, this.checked)\" type=\"checkbox\"/></td></tr><tr><td align=\"left\"><center><table border=\"0\" cellpadding=\"0\" cellspacing=\"1\" width=\"96%\"><tbody><tr><td align=\"left\"><center><table border=\"0\" cellpadding=\"0\" cellspacing=\"1\" width=\"96%\"><tbody><tr valign=\"top\"><td align=\"left\" style=\"font-size:8pt;\"> Typ: <b>  materiały konferencyjne w książce </b></td></tr><tr valign=\"top\"><td align=\"left\" style=\"font-size:8pt;\"> Forma publikacji: <b>  referat/rozdział w monografii  </b></td></tr><tr valign=\"top\"><td align=\"left\" style=\"font-size:8pt;\"> Data wydania: <b>  2003 </b></td></tr></tbody></table></center></td></tr></tbody></table></center></td></tr></tbody></body></html>\n",
      "<html><body><tbody><tr valign=\"top\"><td align=\"left\" rowspan=\"2\" width=\"10\"><img hspace=\"8\" src=\"/suw/files/portal_graph/resource_kind/paper_42.png\"/></td><td><a href=\"/userHomepage&amp;uId=927&amp;rel=BPP-author\" title=\"Profil w BPP\">Abratański, Antoni</a>; <a href=\"/userHomepage&amp;uId=1496&amp;rel=BPP-author\" title=\"Profil w BPP\">Janowski, Zbigniew</a>; <a href=\"/userHomepage&amp;uId=3780&amp;rel=BPP-author\" title=\"Profil w BPP\">Kawecki, Janusz</a> <br/><b><a href=\"/resourceDetailsBPP&amp;rId=34637\">Zastosowanie tensometrii elektrooporowej w ocenie nośności pala dużej średnicy</a></b></td><td align=\"right\" rowspan=\"2\"><input id=\"resSelectChecbox_34637\" name=\"resSelectChecbox_34637\" onchange=\"onResourceSelected(34637, this.checked)\" type=\"checkbox\"/></td></tr><tr><td align=\"left\"><center><table border=\"0\" cellpadding=\"0\" cellspacing=\"1\" width=\"96%\"><tbody><tr><td align=\"left\"><center><table border=\"0\" cellpadding=\"0\" cellspacing=\"1\" width=\"96%\"><tbody><tr valign=\"top\"><td align=\"left\" style=\"font-size:8pt;\"> Typ: <b>  materiały konferencyjne w książce </b></td></tr><tr valign=\"top\"><td align=\"left\" style=\"font-size:8pt;\"> Forma publikacji: <b>  referat/rozdział w monografii  </b></td></tr><tr valign=\"top\"><td align=\"left\" style=\"font-size:8pt;\"> Data wydania: <b>  2003 </b></td></tr></tbody></table></center></td></tr></tbody></table></center></td></tr></tbody></body></html>\n",
      "<html><body><tbody><tr valign=\"top\"><td align=\"left\" rowspan=\"2\" width=\"10\"><img hspace=\"8\" src=\"/suw/files/portal_graph/resource_kind/paper_42.png\"/></td><td><a href=\"/userHomepage&amp;uId=927&amp;rel=BPP-author\" title=\"Profil w BPP\">Abratański, Antoni</a>; <a href=\"/userHomepage&amp;uId=3780&amp;rel=BPP-author\" title=\"Profil w BPP\">Kawecki, Janusz</a> <br/><b><a href=\"/resourceDetailsBPP&amp;rId=34275\">Badanie właściwości dynamicznych mostu stalowego</a></b></td><td align=\"right\" rowspan=\"2\"><input id=\"resSelectChecbox_34275\" name=\"resSelectChecbox_34275\" onchange=\"onResourceSelected(34275, this.checked)\" type=\"checkbox\"/></td></tr><tr><td align=\"left\"><center><table border=\"0\" cellpadding=\"0\" cellspacing=\"1\" width=\"96%\"><tbody><tr><td align=\"left\"><center><table border=\"0\" cellpadding=\"0\" cellspacing=\"1\" width=\"96%\"><tbody><tr valign=\"top\"><td align=\"left\" style=\"font-size:8pt;\"> Typ: <b>  materiały konferencyjne w książce </b></td></tr><tr valign=\"top\"><td align=\"left\" style=\"font-size:8pt;\"> Forma publikacji: <b>  referat/rozdział w monografii  </b></td></tr><tr valign=\"top\"><td align=\"left\" style=\"font-size:8pt;\"> Data wydania: <b>  2002 </b></td></tr></tbody></table></center></td></tr></tbody></table></center></td></tr></tbody></body></html>\n",
      "<html><body><tbody><tr valign=\"top\"><td align=\"left\" rowspan=\"2\" width=\"10\"><img hspace=\"8\" src=\"/suw/files/portal_graph/resource_kind/paper_42.png\"/></td><td><a href=\"/userHomepage&amp;uId=927&amp;rel=BPP-author\" title=\"Profil w BPP\">Abratański, Antoni</a> <br/><b><a href=\"/resourceDetailsBPP&amp;rId=33531\">Nowe rejestratory danych pomiarowych i ich wykorzystanie w badaniach dynamicznych</a></b></td><td align=\"right\" rowspan=\"2\"><input id=\"resSelectChecbox_33531\" name=\"resSelectChecbox_33531\" onchange=\"onResourceSelected(33531, this.checked)\" type=\"checkbox\"/></td></tr><tr><td align=\"left\"><center><table border=\"0\" cellpadding=\"0\" cellspacing=\"1\" width=\"96%\"><tbody><tr><td align=\"left\"><center><table border=\"0\" cellpadding=\"0\" cellspacing=\"1\" width=\"96%\"><tbody><tr valign=\"top\"><td align=\"left\" style=\"font-size:8pt;\"> Typ: <b>  materiały konferencyjne w książce </b></td></tr><tr valign=\"top\"><td align=\"left\" style=\"font-size:8pt;\"> Forma publikacji: <b>  referat/rozdział w monografii  </b></td></tr><tr valign=\"top\"><td align=\"left\" style=\"font-size:8pt;\"> Data wydania: <b>  2000 </b></td></tr></tbody></table></center></td></tr></tbody></table></center></td></tr></tbody></body></html>\n",
      "<html><body><tbody><tr valign=\"top\"><td align=\"left\" rowspan=\"2\" width=\"10\"><img hspace=\"8\" src=\"/suw/files/portal_graph/resource_kind/paper_42.png\"/></td><td><a href=\"/userHomepage&amp;uId=1141&amp;rel=BPP-author\" title=\"Profil w BPP\">Ciesielski, Roman</a>; <a href=\"/userHomepage&amp;uId=927&amp;rel=BPP-author\" title=\"Profil w BPP\">Abratański, Antoni</a> <br/><b><a href=\"/resourceDetailsBPP&amp;rId=32939\">Badania dynamiczne i diagnostyka wieży zabytkowego kościoła w Słońsku k/Kostrzynia</a></b></td><td align=\"right\" rowspan=\"2\"><input id=\"resSelectChecbox_32939\" name=\"resSelectChecbox_32939\" onchange=\"onResourceSelected(32939, this.checked)\" type=\"checkbox\"/></td></tr><tr><td align=\"left\"><center><table border=\"0\" cellpadding=\"0\" cellspacing=\"1\" width=\"96%\"><tbody><tr><td align=\"left\"><center><table border=\"0\" cellpadding=\"0\" cellspacing=\"1\" width=\"96%\"><tbody><tr valign=\"top\"><td align=\"left\" style=\"font-size:8pt;\"> Typ: <b>  materiały konferencyjne w książce </b></td></tr><tr valign=\"top\"><td align=\"left\" style=\"font-size:8pt;\"> Forma publikacji: <b>  referat/rozdział w monografii  </b></td></tr><tr valign=\"top\"><td align=\"left\" style=\"font-size:8pt;\"> Data wydania: <b>  1998 </b></td></tr></tbody></table></center></td></tr></tbody></table></center></td></tr></tbody></body></html>\n",
      "<html><body><tbody><tr valign=\"top\"><td align=\"left\" rowspan=\"2\" width=\"10\"><img hspace=\"8\" src=\"/suw/files/portal_graph/resource_kind/paper_42.png\"/></td><td><a href=\"/userHomepage&amp;uId=1141&amp;rel=BPP-author\" title=\"Profil w BPP\">Ciesielski, Roman</a>; <a href=\"/userHomepage&amp;uId=1751&amp;rel=BPP-author\" title=\"Profil w BPP\">Krupiński, Jacek</a>; <a href=\"/userHomepage&amp;uId=927&amp;rel=BPP-author\" title=\"Profil w BPP\">Abratański, Antoni</a> <br/><b><a href=\"/resourceDetailsBPP&amp;rId=32927\">Badania cech dynamicznych żelbetowego fundamentu turbozespołu 500 MW</a></b></td><td align=\"right\" rowspan=\"2\"><input id=\"resSelectChecbox_32927\" name=\"resSelectChecbox_32927\" onchange=\"onResourceSelected(32927, this.checked)\" type=\"checkbox\"/></td></tr><tr><td align=\"left\"><center><table border=\"0\" cellpadding=\"0\" cellspacing=\"1\" width=\"96%\"><tbody><tr><td align=\"left\"><center><table border=\"0\" cellpadding=\"0\" cellspacing=\"1\" width=\"96%\"><tbody><tr valign=\"top\"><td align=\"left\" style=\"font-size:8pt;\"> Typ: <b>  materiały konferencyjne w książce </b></td></tr><tr valign=\"top\"><td align=\"left\" style=\"font-size:8pt;\"> Forma publikacji: <b>  referat/rozdział w monografii  </b></td></tr><tr valign=\"top\"><td align=\"left\" style=\"font-size:8pt;\"> Data wydania: <b>  1998 </b></td></tr></tbody></table></center></td></tr></tbody></table></center></td></tr></tbody></body></html>\n",
      "<html><body><tbody><tr valign=\"top\"><td align=\"left\" rowspan=\"2\" width=\"10\"><img hspace=\"8\" src=\"/suw/files/portal_graph/resource_kind/paper_42.png\"/></td><td><a href=\"/userHomepage&amp;uId=1141&amp;rel=BPP-author\" title=\"Profil w BPP\">Ciesielski, Roman</a>; <a href=\"/userHomepage&amp;uId=927&amp;rel=BPP-author\" title=\"Profil w BPP\">Abratański, Antoni</a> <br/><b><a href=\"/resourceDetailsBPP&amp;rId=32420\">Specyfika cech dynamicznych wybranych stalowych mostów drogowych</a></b></td><td align=\"right\" rowspan=\"2\"><input id=\"resSelectChecbox_32420\" name=\"resSelectChecbox_32420\" onchange=\"onResourceSelected(32420, this.checked)\" type=\"checkbox\"/></td></tr><tr><td align=\"left\"><center><table border=\"0\" cellpadding=\"0\" cellspacing=\"1\" width=\"96%\"><tbody><tr><td align=\"left\"><center><table border=\"0\" cellpadding=\"0\" cellspacing=\"1\" width=\"96%\"><tbody><tr valign=\"top\"><td align=\"left\" style=\"font-size:8pt;\"> Typ: <b>  materiały konferencyjne w książce </b></td></tr><tr valign=\"top\"><td align=\"left\" style=\"font-size:8pt;\"> Forma publikacji: <b>  referat/rozdział w monografii  </b></td></tr><tr valign=\"top\"><td align=\"left\" style=\"font-size:8pt;\"> Data wydania: <b>  1997 </b></td></tr></tbody></table></center></td></tr></tbody></table></center></td></tr></tbody></body></html>\n",
      "<html><body><tbody><tr valign=\"top\"><td align=\"left\" rowspan=\"2\" width=\"10\"><img hspace=\"8\" src=\"/suw/files/portal_graph/resource_kind/paper_42.png\"/></td><td><a href=\"/userHomepage&amp;uId=1141&amp;rel=BPP-author\" title=\"Profil w BPP\">Ciesielski, Roman</a>; <a href=\"/userHomepage&amp;uId=1033&amp;rel=BPP-author\" title=\"Profil w BPP\">Bogusz, Jerzy</a>; <a href=\"/userHomepage&amp;uId=3818&amp;rel=BPP-author\" title=\"Profil w BPP\">Stypuła, Krzysztof</a>; <a href=\"/userHomepage&amp;uId=95&amp;rel=BPP-author\" title=\"Profil w BPP\">Tatara, Tadeusz</a>; <a href=\"/userHomepage&amp;uId=927&amp;rel=BPP-author\" title=\"Profil w BPP\">Abratański, Antoni </a> <br/><b><a href=\"/resourceDetailsBPP&amp;rId=26743\">Analiza odpowiedzi budowli zabytkowych na wpływy dynamiczne parasejsmiczne, diagnostyka techniczna i metody zabezpieczenia</a></b></td><td align=\"right\" rowspan=\"2\"><input id=\"resSelectChecbox_26743\" name=\"resSelectChecbox_26743\" onchange=\"onResourceSelected(26743, this.checked)\" type=\"checkbox\"/></td></tr><tr><td align=\"left\"><center><table border=\"0\" cellpadding=\"0\" cellspacing=\"1\" width=\"96%\"><tbody><tr><td align=\"left\"><center><table border=\"0\" cellpadding=\"0\" cellspacing=\"1\" width=\"96%\"><tbody><tr valign=\"top\"><td align=\"left\" style=\"font-size:8pt;\"> Typ: <b>  rozdział/fragment książki </b></td></tr><tr valign=\"top\"><td align=\"left\" style=\"font-size:8pt;\"> Data wydania: <b>  1997 </b></td></tr></tbody></table></center></td></tr></tbody></table></center></td></tr></tbody></body></html>\n",
      "<html><body><tbody><tr valign=\"top\"><td align=\"left\" rowspan=\"2\" width=\"10\"><img hspace=\"8\" src=\"/suw/files/portal_graph/resource_kind/paper_42.png\"/></td><td><a href=\"/userHomepage&amp;uId=927&amp;rel=BPP-author\" title=\"Profil w BPP\">Abratański, Antoni</a>; <a href=\"/userHomepage&amp;uId=1247&amp;rel=BPP-author\" title=\"Profil w BPP\">Dygut, Wiesław</a>; <a href=\"/userHomepage&amp;uId=2391&amp;rel=BPP-author\" title=\"Profil w BPP\">Ryncarz, Maria</a>; <a href=\"/userHomepage&amp;uId=7593&amp;rel=BPP-author\" title=\"Profil w BPP\">Struś, Stanisław</a> <br/><b><a href=\"/resourceDetailsBPP&amp;rId=31454\">Zakresy przydatności konwencjonalnej aparatury pomiarowej do pomiarów drgań parasejsmicznych</a></b></td><td align=\"right\" rowspan=\"2\"><input id=\"resSelectChecbox_31454\" name=\"resSelectChecbox_31454\" onchange=\"onResourceSelected(31454, this.checked)\" type=\"checkbox\"/></td></tr><tr><td align=\"left\"><center><table border=\"0\" cellpadding=\"0\" cellspacing=\"1\" width=\"96%\"><tbody><tr><td align=\"left\"><center><table border=\"0\" cellpadding=\"0\" cellspacing=\"1\" width=\"96%\"><tbody><tr valign=\"top\"><td align=\"left\" style=\"font-size:8pt;\"> Typ: <b>  materiały konferencyjne w książce </b></td></tr><tr valign=\"top\"><td align=\"left\" style=\"font-size:8pt;\"> Forma publikacji: <b>  referat/rozdział w monografii  </b></td></tr><tr valign=\"top\"><td align=\"left\" style=\"font-size:8pt;\"> Data wydania: <b>  1994 </b></td></tr></tbody></table></center></td></tr></tbody></table></center></td></tr></tbody></body></html>\n",
      "<html><body><tbody><tr valign=\"top\"><td align=\"left\" rowspan=\"2\" width=\"10\"><img hspace=\"8\" src=\"/suw/files/portal_graph/resource_kind/paper_42.png\"/></td><td><a href=\"/userHomepage&amp;uId=927&amp;rel=BPP-author\" title=\"Profil w BPP\">Abratański, Antoni</a>; <a href=\"/userHomepage&amp;uId=1141&amp;rel=BPP-author\" title=\"Profil w BPP\">Ciesielski, Roman</a>; <a href=\"/userHomepage&amp;uId=2084&amp;rel=BPP-author\" title=\"Profil w BPP\">Nasiński, Zbigniew</a>; <a href=\"/userHomepage&amp;uId=2235&amp;rel=BPP-author\" title=\"Profil w BPP\">Pieronek, Mieczysław</a>; <a href=\"/userHomepage&amp;uId=2391&amp;rel=BPP-author\" title=\"Profil w BPP\">Ryncarz, Maria</a> <br/><b><a href=\"/resourceDetailsBPP&amp;rId=31327\">Wyniki pomiarów drgań generowanych w kamieniołomie cementowni Małogoszcz z ostatnich lat</a></b></td><td align=\"right\" rowspan=\"2\"><input id=\"resSelectChecbox_31327\" name=\"resSelectChecbox_31327\" onchange=\"onResourceSelected(31327, this.checked)\" type=\"checkbox\"/></td></tr><tr><td align=\"left\"><center><table border=\"0\" cellpadding=\"0\" cellspacing=\"1\" width=\"96%\"><tbody><tr><td align=\"left\"><center><table border=\"0\" cellpadding=\"0\" cellspacing=\"1\" width=\"96%\"><tbody><tr valign=\"top\"><td align=\"left\" style=\"font-size:8pt;\"> Typ: <b>  materiały konferencyjne w książce </b></td></tr><tr valign=\"top\"><td align=\"left\" style=\"font-size:8pt;\"> Forma publikacji: <b>  referat/rozdział w monografii  </b></td></tr><tr valign=\"top\"><td align=\"left\" style=\"font-size:8pt;\"> Data wydania: <b>  1994 </b></td></tr></tbody></table></center></td></tr></tbody></table></center></td></tr></tbody></body></html>\n"
     ]
    }
   ],
   "source": [
    "\n",
    "driver = webdriver.Chrome('./chromedriver')\n",
    "driver.get(\"https://suw.biblos.pk.edu.pl/userHomepage&uId=927&rel=BPP-author\")\n",
    "\n",
    "publications = []\n",
    "\n",
    "try:\n",
    "    element = WebDriverWait(driver, 10).until(EC.presence_of_element_located((\"xpath\", '//*[@id=\"resultsBox\"]/center/table[1]')))\n",
    "    \n",
    "    for row in driver.find_elements('xpath',\"//*[starts-with(@id, 'resourceItemTable')]\"):\n",
    "        record = row.get_attribute('innerHTML')\n",
    "        print(BeautifulSoup(record))\n",
    "        \n",
    "    \n",
    "finally:\n",
    "    driver.delete_all_cookies()\n",
    "    driver.quit()"
   ]
  },
  {
   "cell_type": "code",
   "execution_count": null,
   "metadata": {},
   "outputs": [],
   "source": []
  },
  {
   "cell_type": "code",
   "execution_count": null,
   "metadata": {},
   "outputs": [],
   "source": []
  },
  {
   "cell_type": "code",
   "execution_count": null,
   "metadata": {},
   "outputs": [],
   "source": []
  },
  {
   "cell_type": "code",
   "execution_count": 25,
   "metadata": {},
   "outputs": [],
   "source": [
    "\n",
    "# driver = webdriver.Chrome('./chromedriver')\n",
    "# driver.get(\"https://suw.biblos.pk.edu.pl/userHomepage&uId=927&rel=BPP-author\")\n",
    "\n",
    "# publications = []\n",
    "\n",
    "# try:\n",
    "#     element = WebDriverWait(driver, 10).until(EC.presence_of_element_located((\"xpath\", '//*[@id=\"resultsBox\"]/center/table[1]')))\n",
    "    \n",
    "#     for row in driver.find_element('xpath','//*[@id=\"resultsBox\"]/center/table[2]').find_elements('xpath','.//tr'):\n",
    "#         record = row.find_element('xpath', \"//*[starts-with(@id, 'resourceItemTable')]\").get_attribute('innerHTML')\n",
    "#         BeautifulSoup(record)\n",
    "        \n",
    "    \n",
    "# finally:\n",
    "#     driver.delete_all_cookies()\n",
    "#     driver.quit()"
   ]
  },
  {
   "cell_type": "code",
   "execution_count": null,
   "metadata": {},
   "outputs": [],
   "source": []
  }
 ],
 "metadata": {
  "kernelspec": {
   "display_name": "Python 3",
   "language": "python",
   "name": "python3"
  },
  "language_info": {
   "codemirror_mode": {
    "name": "ipython",
    "version": 3
   },
   "file_extension": ".py",
   "mimetype": "text/x-python",
   "name": "python",
   "nbconvert_exporter": "python",
   "pygments_lexer": "ipython3",
   "version": "3.9.6"
  },
  "orig_nbformat": 4
 },
 "nbformat": 4,
 "nbformat_minor": 2
}
